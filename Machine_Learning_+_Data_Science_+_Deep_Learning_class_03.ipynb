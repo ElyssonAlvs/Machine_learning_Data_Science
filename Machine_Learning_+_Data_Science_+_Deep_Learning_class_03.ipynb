{
  "nbformat": 4,
  "nbformat_minor": 0,
  "metadata": {
    "colab": {
      "provenance": [],
      "authorship_tag": "ABX9TyN1Gf0UfKK6QjnY3sDyUo8h",
      "include_colab_link": true
    },
    "kernelspec": {
      "name": "python3",
      "display_name": "Python 3"
    },
    "language_info": {
      "name": "python"
    }
  },
  "cells": [
    {
      "cell_type": "markdown",
      "metadata": {
        "id": "view-in-github",
        "colab_type": "text"
      },
      "source": [
        "<a href=\"https://colab.research.google.com/github/ElyssonAlvs/Machine_learning_Data_Science/blob/main/Machine_Learning_%2B_Data_Science_%2B_Deep_Learning_class_03.ipynb\" target=\"_parent\"><img src=\"https://colab.research.google.com/assets/colab-badge.svg\" alt=\"Open In Colab\"/></a>"
      ]
    },
    {
      "cell_type": "code",
      "execution_count": null,
      "metadata": {
        "id": "fYhEra5NMRD7"
      },
      "outputs": [],
      "source": [
        "# long hair? fisrt\n",
        "# short leg ? second\n",
        "# does wow (auau) ? third\n",
        "pork1 = [0, 1, 0]\n",
        "pork2 = [0, 1, 1]\n",
        "pork3 = [1, 1, 1]\n",
        "\n",
        "dog1 = [0, 1, 1]\n",
        "dog2 = [1, 0, 1]\n",
        "dog3 = [1, 1, 1]\n",
        "\n",
        "training_x = [pork1, pork2, pork3, dog1, dog2, dog3]\n",
        "training_y = [1, 1, 1, 0, 0, 0]"
      ]
    },
    {
      "cell_type": "code",
      "source": [
        "from sklearn.svm import LinearSVC\n",
        "# an empty brain, where data will be stored so he can learn.\n",
        "modelo = LinearSVC()\n",
        "modelo.fit(training_x, training_y)"
      ],
      "metadata": {
        "id": "umgruEZeO2Gi",
        "colab": {
          "base_uri": "https://localhost:8080/"
        },
        "outputId": "d2924d3f-c79a-4720-bdb7-88522c7e9ed3"
      },
      "execution_count": null,
      "outputs": [
        {
          "output_type": "execute_result",
          "data": {
            "text/plain": [
              "LinearSVC()"
            ]
          },
          "metadata": {},
          "execution_count": 5
        }
      ]
    },
    {
      "cell_type": "code",
      "source": [
        "# test\n",
        "mystery_animal = [1, 1, 1]\n",
        "# \"predict\" interprets lists.\n",
        "modelo.predict([mystery_animal])\n",
        "# a dog"
      ],
      "metadata": {
        "colab": {
          "base_uri": "https://localhost:8080/"
        },
        "id": "HBcca-lyQ4R9",
        "outputId": "18482e8f-e4bf-4b87-949d-34cf4e970407"
      },
      "execution_count": null,
      "outputs": [
        {
          "output_type": "execute_result",
          "data": {
            "text/plain": [
              "array([0])"
            ]
          },
          "metadata": {},
          "execution_count": 7
        }
      ]
    },
    {
      "cell_type": "code",
      "source": [
        "# test with others mystery animals\n",
        "mystery1 = [1, 1, 1]\n",
        "mystery2 = [1, 1, 0]\n",
        "mystery3 = [0, 1, 1]\n",
        "\n",
        "test_x = [mystery1, mystery2, mystery3]\n",
        "test_y = [0 ,1, 0]"
      ],
      "metadata": {
        "id": "FeSqQz1aSI0D"
      },
      "execution_count": null,
      "outputs": []
    },
    {
      "cell_type": "code",
      "source": [
        "forecast = modelo.predict(test_x)\n",
        "forecast"
      ],
      "metadata": {
        "colab": {
          "base_uri": "https://localhost:8080/"
        },
        "id": "2fdya3BGSzkj",
        "outputId": "3dbd8975-4cd3-468e-c958-a79c081d6562"
      },
      "execution_count": null,
      "outputs": [
        {
          "output_type": "execute_result",
          "data": {
            "text/plain": [
              "array([0, 1, 1])"
            ]
          },
          "metadata": {},
          "execution_count": 23
        }
      ]
    },
    {
      "cell_type": "code",
      "source": [
        " from sklearn.metrics import accuracy_score\n",
        " \n",
        " accuracy_score(test_y, forecast)"
      ],
      "metadata": {
        "colab": {
          "base_uri": "https://localhost:8080/"
        },
        "id": "GiT3LLHlTQ8S",
        "outputId": "ec2dea78-b61d-4654-8f73-1fa0ef80ac93"
      },
      "execution_count": null,
      "outputs": [
        {
          "output_type": "execute_result",
          "data": {
            "text/plain": [
              "0.6666666666666666"
            ]
          },
          "metadata": {},
          "execution_count": 24
        }
      ]
    }
  ]
}