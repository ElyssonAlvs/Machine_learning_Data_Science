{
  "nbformat": 4,
  "nbformat_minor": 0,
  "metadata": {
    "colab": {
      "provenance": [],
      "authorship_tag": "ABX9TyPWeE2G/kUq88zBbxdxR6U0",
      "include_colab_link": true
    },
    "kernelspec": {
      "name": "python3",
      "display_name": "Python 3"
    },
    "language_info": {
      "name": "python"
    }
  },
  "cells": [
    {
      "cell_type": "markdown",
      "metadata": {
        "id": "view-in-github",
        "colab_type": "text"
      },
      "source": [
        "<a href=\"https://colab.research.google.com/github/ElyssonAlvs/Machine_learning_Data_Science/blob/main/Machine_Learning_%2B_Data_Science_%2B_Deep_Learning_Class_01.ipynb\" target=\"_parent\"><img src=\"https://colab.research.google.com/assets/colab-badge.svg\" alt=\"Open In Colab\"/></a>"
      ]
    },
    {
      "cell_type": "code",
      "execution_count": null,
      "metadata": {
        "colab": {
          "base_uri": "https://localhost:8080/"
        },
        "id": "p9t3dkEl8cq6",
        "outputId": "8aaf5ebb-15d6-4c1e-cb94-5fd43ee39ff4"
      },
      "outputs": [
        {
          "output_type": "stream",
          "name": "stdout",
          "text": [
            "Michel\n"
          ]
        }
      ],
      "source": [
        "nome = 'Michel'\n",
        "print(nome)"
      ]
    },
    {
      "cell_type": "code",
      "source": [
        "idade = 20\n",
        "idade"
      ],
      "metadata": {
        "colab": {
          "base_uri": "https://localhost:8080/"
        },
        "id": "ftvA_tUf9r6O",
        "outputId": "326c7abb-4a5d-4412-ed02-a9baeb0cb77b"
      },
      "execution_count": null,
      "outputs": [
        {
          "output_type": "execute_result",
          "data": {
            "text/plain": [
              "20"
            ]
          },
          "metadata": {},
          "execution_count": 11
        }
      ]
    },
    {
      "cell_type": "code",
      "source": [
        "idade = idade + 3\n",
        "idade"
      ],
      "metadata": {
        "colab": {
          "base_uri": "https://localhost:8080/"
        },
        "id": "zG3iBJRh-KqJ",
        "outputId": "e1f157ac-a25d-485f-9685-8ad50c44258f"
      },
      "execution_count": null,
      "outputs": [
        {
          "output_type": "execute_result",
          "data": {
            "text/plain": [
              "23"
            ]
          },
          "metadata": {},
          "execution_count": 12
        }
      ]
    },
    {
      "cell_type": "code",
      "source": [
        "def mais_um_ano(idade):\n",
        "    print('tá dentro da função')\n",
        "    return idade + 1"
      ],
      "metadata": {
        "id": "IPvADE0m-Nng"
      },
      "execution_count": null,
      "outputs": []
    },
    {
      "cell_type": "code",
      "source": [
        "mais_um_ano(19)"
      ],
      "metadata": {
        "colab": {
          "base_uri": "https://localhost:8080/"
        },
        "id": "NmdgKXwT_bwf",
        "outputId": "6b03335e-bf10-4bae-8f10-2c9881abb48f"
      },
      "execution_count": null,
      "outputs": [
        {
          "output_type": "stream",
          "name": "stdout",
          "text": [
            "tá dentro da função\n"
          ]
        },
        {
          "output_type": "execute_result",
          "data": {
            "text/plain": [
              "20"
            ]
          },
          "metadata": {},
          "execution_count": 22
        }
      ]
    },
    {
      "cell_type": "code",
      "source": [
        "filme1 = 'Tot Story 17'\n",
        "filme2 = 'A Xuxa contra o Baixo Astral'\n",
        "filme3 = 'Matrix 1'"
      ],
      "metadata": {
        "id": "3eB_OGVf_fNW"
      },
      "execution_count": null,
      "outputs": []
    },
    {
      "cell_type": "code",
      "source": [
        "filmes = ['Toy Story 17', 'Xuxa contra o Baixo Astral', 'Matrix 1']\n",
        "filmes"
      ],
      "metadata": {
        "colab": {
          "base_uri": "https://localhost:8080/"
        },
        "id": "COA-gIv9JoMA",
        "outputId": "a3f0f3a8-a84e-4940-a23e-dda87beb319e"
      },
      "execution_count": null,
      "outputs": [
        {
          "output_type": "execute_result",
          "data": {
            "text/plain": [
              "['Toy Story 17', 'Xuxa contra o Baixo Astral', 'Matrix 1']"
            ]
          },
          "metadata": {},
          "execution_count": 24
        }
      ]
    },
    {
      "cell_type": "code",
      "source": [
        "def imprime_filmes(filmes_que_quero_imprimir):\n",
        "  print('A lista de filmes que eu tenho disponível')\n",
        "  print(filmes_que_quero_imprimir)"
      ],
      "metadata": {
        "id": "weApEgAkJ1vD"
      },
      "execution_count": null,
      "outputs": []
    },
    {
      "cell_type": "code",
      "source": [
        "imprime_filmes(filmes)"
      ],
      "metadata": {
        "colab": {
          "base_uri": "https://localhost:8080/"
        },
        "id": "H1Ndfl16KXFr",
        "outputId": "a0668f10-b394-4c67-9e43-576914be4da0"
      },
      "execution_count": null,
      "outputs": [
        {
          "output_type": "stream",
          "name": "stdout",
          "text": [
            "A lista de filmes que eu tenho disponível\n",
            "['Toy Story 17', 'Xuxa contra o Baixo Astral', 'Matrix 1']\n"
          ]
        }
      ]
    },
    {
      "cell_type": "code",
      "source": [
        " filmes[0]"
      ],
      "metadata": {
        "colab": {
          "base_uri": "https://localhost:8080/",
          "height": 36
        },
        "id": "WxOR93J0KaDU",
        "outputId": "dbdb4dcd-527c-44dc-9869-227fefbf4c7a"
      },
      "execution_count": null,
      "outputs": [
        {
          "output_type": "execute_result",
          "data": {
            "text/plain": [
              "'Toy Story 17'"
            ],
            "application/vnd.google.colaboratory.intrinsic+json": {
              "type": "string"
            }
          },
          "metadata": {},
          "execution_count": 27
        }
      ]
    },
    {
      "cell_type": "code",
      "source": [
        "filmes[1]"
      ],
      "metadata": {
        "colab": {
          "base_uri": "https://localhost:8080/",
          "height": 36
        },
        "id": "uRKnLZ87K10O",
        "outputId": "e9ddab5c-da97-45b0-edae-73fc0a71b2bb"
      },
      "execution_count": null,
      "outputs": [
        {
          "output_type": "execute_result",
          "data": {
            "text/plain": [
              "'Xuxa contra o Baixo Astral'"
            ],
            "application/vnd.google.colaboratory.intrinsic+json": {
              "type": "string"
            }
          },
          "metadata": {},
          "execution_count": 28
        }
      ]
    },
    {
      "cell_type": "code",
      "source": [
        "filmes[2]"
      ],
      "metadata": {
        "colab": {
          "base_uri": "https://localhost:8080/",
          "height": 36
        },
        "id": "VRBIh13nLAQQ",
        "outputId": "6df55926-9d8c-4eb9-9990-631889c2ee49"
      },
      "execution_count": null,
      "outputs": [
        {
          "output_type": "execute_result",
          "data": {
            "text/plain": [
              "'Matrix 1'"
            ],
            "application/vnd.google.colaboratory.intrinsic+json": {
              "type": "string"
            }
          },
          "metadata": {},
          "execution_count": 29
        }
      ]
    },
    {
      "cell_type": "markdown",
      "source": [
        " Os \":\" (dois ponto) simboliza que haverá um limite, no caso seguinte, será do elemento na posição 1 até o final e se colocar números negativos, por exemplo -1, ele pegará o último elemento da lista, se -2, o penpultimo e assim suscessivamente."
      ],
      "metadata": {
        "id": "_MB6QaDzLIIi"
      }
    },
    {
      "cell_type": "code",
      "source": [
        "filmes[1:]"
      ],
      "metadata": {
        "colab": {
          "base_uri": "https://localhost:8080/"
        },
        "id": "16uvlRmsLD7j",
        "outputId": "222c9b42-2b61-43dd-a098-a75a4a1bb760"
      },
      "execution_count": null,
      "outputs": [
        {
          "output_type": "execute_result",
          "data": {
            "text/plain": [
              "['Xuxa contra o Baixo Astral', 'Matrix 1']"
            ]
          },
          "metadata": {},
          "execution_count": 30
        }
      ]
    },
    {
      "cell_type": "code",
      "source": [
        "for filme in filmes:\n",
        "  print(filme)\n",
        "  print('...')\n",
        "print('estou fora')\n",
        "  "
      ],
      "metadata": {
        "colab": {
          "base_uri": "https://localhost:8080/"
        },
        "id": "LHKOx4ZWLGX0",
        "outputId": "044787b7-c939-4661-8c64-fb0d1857a1fc"
      },
      "execution_count": null,
      "outputs": [
        {
          "output_type": "stream",
          "name": "stdout",
          "text": [
            "Toy Story 17\n",
            "...\n",
            "Xuxa contra o Baixo Astral\n",
            "...\n",
            "Matrix 1\n",
            "...\n",
            "estou fora\n"
          ]
        }
      ]
    },
    {
      "cell_type": "code",
      "source": [
        "def imprime_filmes(filmes_que_quero_imprimir):\n",
        "  print('A lista de filmes que eu tenho disponível')\n",
        "  for filme in filmes_que_quero_imprimir:\n",
        "    print(filme)"
      ],
      "metadata": {
        "id": "HfrboW0wL5jx"
      },
      "execution_count": null,
      "outputs": []
    },
    {
      "cell_type": "code",
      "source": [
        "imprime_filmes(filmes)"
      ],
      "metadata": {
        "colab": {
          "base_uri": "https://localhost:8080/"
        },
        "id": "PsSGScZ6MZlS",
        "outputId": "75291952-fec6-4c5c-b273-3cfd37fa3c8b"
      },
      "execution_count": null,
      "outputs": [
        {
          "output_type": "stream",
          "name": "stdout",
          "text": [
            "A lista de filmes que eu tenho disponível\n",
            "Toy Story 17\n",
            "Xuxa contra o Baixo Astral\n",
            "Matrix 1\n"
          ]
        }
      ]
    },
    {
      "cell_type": "markdown",
      "source": [
        "No exemplo seguinte, temos um dicionário"
      ],
      "metadata": {
        "id": "qkRqf2iDNFrz"
      }
    },
    {
      "cell_type": "code",
      "source": [
        "dados = {'nome' : 'Elysson',\n",
        "        'idade' : 19,\n",
        "         'empresa' : 'Amazon'\n",
        "}\n",
        "dados"
      ],
      "metadata": {
        "colab": {
          "base_uri": "https://localhost:8080/"
        },
        "id": "GUQ5ApTBMxaG",
        "outputId": "15f0a303-0279-4bb8-9f6d-3a2c88c78a16"
      },
      "execution_count": null,
      "outputs": [
        {
          "output_type": "execute_result",
          "data": {
            "text/plain": [
              "{'nome': 'Elysson', 'idade': 19, 'empresa': 'Amazon'}"
            ]
          },
          "metadata": {},
          "execution_count": 42
        }
      ]
    },
    {
      "cell_type": "code",
      "source": [
        "dados['nome']"
      ],
      "metadata": {
        "colab": {
          "base_uri": "https://localhost:8080/",
          "height": 36
        },
        "id": "EWONu5jUM2mD",
        "outputId": "29c78881-034a-49d6-eb4a-71fea5f6af7a"
      },
      "execution_count": null,
      "outputs": [
        {
          "output_type": "execute_result",
          "data": {
            "text/plain": [
              "'Elysson'"
            ],
            "application/vnd.google.colaboratory.intrinsic+json": {
              "type": "string"
            }
          },
          "metadata": {},
          "execution_count": 44
        }
      ]
    }
  ]
}